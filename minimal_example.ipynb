{
 "cells": [
  {
   "cell_type": "code",
   "execution_count": 1,
   "id": "1da1038c",
   "metadata": {},
   "outputs": [],
   "source": [
    "import numpy as np\n",
    "from SERGIO.GRN import grn_from_human,grn_from_networkx\n",
    "from SERGIO._sergio import sergio\n",
    "from SERGIO.MR import mrProfile\n",
    "import pandas as pd\n",
    "from SERGIO.GRN._grn import GRN\n",
    "from SERGIO.GRN._components import Gene, SingleInteraction\n",
    "import seaborn as sns\n",
    "import matplotlib.pyplot as plt"
   ]
  },
  {
   "cell_type": "markdown",
   "id": "0cbf7001-5413-4255-9f18-1443d9c02698",
   "metadata": {},
   "source": [
    "# Simulate GRN"
   ]
  },
  {
   "cell_type": "markdown",
   "id": "0bf0eb6e",
   "metadata": {},
   "source": [
    "Use regulatory network from Zhi-Ping Liu, Canglin Wu, Hongyu Miao and Hulin Wu (2015). RegNetwork: an integrated database of transcriptional and posttranscriptional regulatory networks in human and mouse. Database 2015. doi: [10.1093/database/bav095](10.1093/database/bav095)"
   ]
  },
  {
   "cell_type": "code",
   "execution_count": 2,
   "id": "39f4c300",
   "metadata": {},
   "outputs": [],
   "source": [
    "grn = grn_from_human()"
   ]
  },
  {
   "cell_type": "code",
   "execution_count": 3,
   "id": "63799495",
   "metadata": {},
   "outputs": [],
   "source": [
    "\n",
    "mrs = grn.get_mrs()\n",
    "mr_profs = mrProfile(MR_names = mrs, n_types = 1)\n",
    "mr_profs.build_rnd(range_dict={'L': [1, 2.5], 'H': [3.5, 5]})\n"
   ]
  },
  {
   "cell_type": "code",
   "execution_count": 4,
   "id": "920781f2",
   "metadata": {},
   "outputs": [
    {
     "name": "stdout",
     "output_type": "stream",
     "text": [
      "CPU times: user 12 s, sys: 0 ns, total: 12 s\n",
      "Wall time: 12 s\n"
     ]
    }
   ],
   "source": [
    "grn.init(mr_profs, update_half_resp = True)\n",
    "sim = sergio(grn)\n",
    "%time sim.simulate(nCells = 100, noise_s = 1, safety_iter = 150, scale_iter = 10)"
   ]
  },
  {
   "cell_type": "code",
   "execution_count": 5,
   "id": "3a384409",
   "metadata": {},
   "outputs": [],
   "source": [
    "expr = sim.getSimExpr()"
   ]
  },
  {
   "cell_type": "code",
   "execution_count": 6,
   "id": "7d809dfb-c100-4e69-b592-760d093e1521",
   "metadata": {},
   "outputs": [
    {
     "data": {
      "text/html": [
       "<div>\n",
       "<style scoped>\n",
       "    .dataframe tbody tr th:only-of-type {\n",
       "        vertical-align: middle;\n",
       "    }\n",
       "\n",
       "    .dataframe tbody tr th {\n",
       "        vertical-align: top;\n",
       "    }\n",
       "\n",
       "    .dataframe thead th {\n",
       "        text-align: right;\n",
       "    }\n",
       "</style>\n",
       "<table border=\"1\" class=\"dataframe\">\n",
       "  <thead>\n",
       "    <tr style=\"text-align: right;\">\n",
       "      <th></th>\n",
       "      <th>type_0_cell_0</th>\n",
       "      <th>type_0_cell_1</th>\n",
       "      <th>type_0_cell_2</th>\n",
       "      <th>type_0_cell_3</th>\n",
       "      <th>type_0_cell_4</th>\n",
       "      <th>type_0_cell_5</th>\n",
       "      <th>type_0_cell_6</th>\n",
       "      <th>type_0_cell_7</th>\n",
       "      <th>type_0_cell_8</th>\n",
       "      <th>type_0_cell_9</th>\n",
       "      <th>...</th>\n",
       "      <th>type_0_cell_90</th>\n",
       "      <th>type_0_cell_91</th>\n",
       "      <th>type_0_cell_92</th>\n",
       "      <th>type_0_cell_93</th>\n",
       "      <th>type_0_cell_94</th>\n",
       "      <th>type_0_cell_95</th>\n",
       "      <th>type_0_cell_96</th>\n",
       "      <th>type_0_cell_97</th>\n",
       "      <th>type_0_cell_98</th>\n",
       "      <th>type_0_cell_99</th>\n",
       "    </tr>\n",
       "  </thead>\n",
       "  <tbody>\n",
       "    <tr>\n",
       "      <th>4842</th>\n",
       "      <td>0.560621</td>\n",
       "      <td>1.197514</td>\n",
       "      <td>0.023346</td>\n",
       "      <td>0.770549</td>\n",
       "      <td>0.776099</td>\n",
       "      <td>0.395308</td>\n",
       "      <td>0.753965</td>\n",
       "      <td>0.000000</td>\n",
       "      <td>0.718456</td>\n",
       "      <td>0.026395</td>\n",
       "      <td>...</td>\n",
       "      <td>0.347011</td>\n",
       "      <td>0.022724</td>\n",
       "      <td>0.578939</td>\n",
       "      <td>0.110999</td>\n",
       "      <td>0.751991</td>\n",
       "      <td>0.374620</td>\n",
       "      <td>0.649507</td>\n",
       "      <td>1.095068</td>\n",
       "      <td>0.570530</td>\n",
       "      <td>1.331280</td>\n",
       "    </tr>\n",
       "    <tr>\n",
       "      <th>10365</th>\n",
       "      <td>1.153734</td>\n",
       "      <td>1.190627</td>\n",
       "      <td>0.100355</td>\n",
       "      <td>0.083708</td>\n",
       "      <td>0.298895</td>\n",
       "      <td>0.549488</td>\n",
       "      <td>1.244715</td>\n",
       "      <td>0.507445</td>\n",
       "      <td>1.313205</td>\n",
       "      <td>0.000000</td>\n",
       "      <td>...</td>\n",
       "      <td>0.425327</td>\n",
       "      <td>0.000000</td>\n",
       "      <td>0.148299</td>\n",
       "      <td>0.702562</td>\n",
       "      <td>0.000000</td>\n",
       "      <td>1.016979</td>\n",
       "      <td>0.049338</td>\n",
       "      <td>1.066647</td>\n",
       "      <td>0.972460</td>\n",
       "      <td>0.372646</td>\n",
       "    </tr>\n",
       "    <tr>\n",
       "      <th>4843</th>\n",
       "      <td>1.542440</td>\n",
       "      <td>0.000000</td>\n",
       "      <td>1.593493</td>\n",
       "      <td>0.815023</td>\n",
       "      <td>2.364566</td>\n",
       "      <td>7.406224</td>\n",
       "      <td>0.766968</td>\n",
       "      <td>1.840057</td>\n",
       "      <td>0.596388</td>\n",
       "      <td>1.338284</td>\n",
       "      <td>...</td>\n",
       "      <td>3.778790</td>\n",
       "      <td>0.358384</td>\n",
       "      <td>2.792469</td>\n",
       "      <td>2.059052</td>\n",
       "      <td>1.660225</td>\n",
       "      <td>4.490920</td>\n",
       "      <td>1.226406</td>\n",
       "      <td>0.000000</td>\n",
       "      <td>1.447571</td>\n",
       "      <td>1.413631</td>\n",
       "    </tr>\n",
       "    <tr>\n",
       "      <th>4846</th>\n",
       "      <td>1.827590</td>\n",
       "      <td>1.105600</td>\n",
       "      <td>0.642143</td>\n",
       "      <td>1.669399</td>\n",
       "      <td>0.995652</td>\n",
       "      <td>1.292950</td>\n",
       "      <td>1.944649</td>\n",
       "      <td>0.390610</td>\n",
       "      <td>1.626936</td>\n",
       "      <td>0.635485</td>\n",
       "      <td>...</td>\n",
       "      <td>1.383995</td>\n",
       "      <td>0.175594</td>\n",
       "      <td>0.125911</td>\n",
       "      <td>0.646435</td>\n",
       "      <td>0.962099</td>\n",
       "      <td>2.635996</td>\n",
       "      <td>2.422280</td>\n",
       "      <td>1.022205</td>\n",
       "      <td>2.105545</td>\n",
       "      <td>3.074252</td>\n",
       "    </tr>\n",
       "    <tr>\n",
       "      <th>445</th>\n",
       "      <td>0.537868</td>\n",
       "      <td>0.601998</td>\n",
       "      <td>1.245798</td>\n",
       "      <td>0.055588</td>\n",
       "      <td>0.317004</td>\n",
       "      <td>0.395770</td>\n",
       "      <td>0.585509</td>\n",
       "      <td>0.932359</td>\n",
       "      <td>0.589002</td>\n",
       "      <td>1.058474</td>\n",
       "      <td>...</td>\n",
       "      <td>1.057482</td>\n",
       "      <td>1.193802</td>\n",
       "      <td>0.735958</td>\n",
       "      <td>1.046595</td>\n",
       "      <td>0.138776</td>\n",
       "      <td>1.157032</td>\n",
       "      <td>0.444185</td>\n",
       "      <td>0.717198</td>\n",
       "      <td>0.418052</td>\n",
       "      <td>0.067865</td>\n",
       "    </tr>\n",
       "    <tr>\n",
       "      <th>...</th>\n",
       "      <td>...</td>\n",
       "      <td>...</td>\n",
       "      <td>...</td>\n",
       "      <td>...</td>\n",
       "      <td>...</td>\n",
       "      <td>...</td>\n",
       "      <td>...</td>\n",
       "      <td>...</td>\n",
       "      <td>...</td>\n",
       "      <td>...</td>\n",
       "      <td>...</td>\n",
       "      <td>...</td>\n",
       "      <td>...</td>\n",
       "      <td>...</td>\n",
       "      <td>...</td>\n",
       "      <td>...</td>\n",
       "      <td>...</td>\n",
       "      <td>...</td>\n",
       "      <td>...</td>\n",
       "      <td>...</td>\n",
       "      <td>...</td>\n",
       "    </tr>\n",
       "    <tr>\n",
       "      <th>3125</th>\n",
       "      <td>1.121502</td>\n",
       "      <td>0.289981</td>\n",
       "      <td>2.544143</td>\n",
       "      <td>1.173548</td>\n",
       "      <td>1.753416</td>\n",
       "      <td>0.334835</td>\n",
       "      <td>1.256120</td>\n",
       "      <td>1.819655</td>\n",
       "      <td>0.569953</td>\n",
       "      <td>1.876477</td>\n",
       "      <td>...</td>\n",
       "      <td>0.614029</td>\n",
       "      <td>2.441266</td>\n",
       "      <td>1.104264</td>\n",
       "      <td>1.546160</td>\n",
       "      <td>1.846077</td>\n",
       "      <td>0.555509</td>\n",
       "      <td>1.650074</td>\n",
       "      <td>0.199517</td>\n",
       "      <td>1.187846</td>\n",
       "      <td>1.027346</td>\n",
       "    </tr>\n",
       "    <tr>\n",
       "      <th>3126</th>\n",
       "      <td>0.321784</td>\n",
       "      <td>0.825015</td>\n",
       "      <td>0.371900</td>\n",
       "      <td>0.339016</td>\n",
       "      <td>0.867026</td>\n",
       "      <td>0.194946</td>\n",
       "      <td>0.373109</td>\n",
       "      <td>1.003808</td>\n",
       "      <td>0.672469</td>\n",
       "      <td>0.915487</td>\n",
       "      <td>...</td>\n",
       "      <td>0.076131</td>\n",
       "      <td>0.324421</td>\n",
       "      <td>1.953277</td>\n",
       "      <td>0.921129</td>\n",
       "      <td>0.560876</td>\n",
       "      <td>0.149863</td>\n",
       "      <td>0.884143</td>\n",
       "      <td>0.800537</td>\n",
       "      <td>0.390002</td>\n",
       "      <td>0.291461</td>\n",
       "    </tr>\n",
       "    <tr>\n",
       "      <th>3127</th>\n",
       "      <td>1.012153</td>\n",
       "      <td>0.900840</td>\n",
       "      <td>0.391178</td>\n",
       "      <td>2.614706</td>\n",
       "      <td>0.862785</td>\n",
       "      <td>0.971745</td>\n",
       "      <td>0.331950</td>\n",
       "      <td>0.151106</td>\n",
       "      <td>1.026358</td>\n",
       "      <td>0.276643</td>\n",
       "      <td>...</td>\n",
       "      <td>0.828874</td>\n",
       "      <td>0.365461</td>\n",
       "      <td>0.747088</td>\n",
       "      <td>0.095492</td>\n",
       "      <td>1.946728</td>\n",
       "      <td>0.264345</td>\n",
       "      <td>0.711970</td>\n",
       "      <td>0.876153</td>\n",
       "      <td>0.890621</td>\n",
       "      <td>1.923911</td>\n",
       "    </tr>\n",
       "    <tr>\n",
       "      <th>6095</th>\n",
       "      <td>1.004292</td>\n",
       "      <td>0.492185</td>\n",
       "      <td>1.724344</td>\n",
       "      <td>0.636762</td>\n",
       "      <td>0.346012</td>\n",
       "      <td>0.861753</td>\n",
       "      <td>0.284647</td>\n",
       "      <td>0.591574</td>\n",
       "      <td>0.140583</td>\n",
       "      <td>0.830451</td>\n",
       "      <td>...</td>\n",
       "      <td>3.223143</td>\n",
       "      <td>2.829619</td>\n",
       "      <td>0.987722</td>\n",
       "      <td>0.588533</td>\n",
       "      <td>0.772121</td>\n",
       "      <td>4.961081</td>\n",
       "      <td>0.161044</td>\n",
       "      <td>0.662748</td>\n",
       "      <td>1.079608</td>\n",
       "      <td>0.205796</td>\n",
       "    </tr>\n",
       "    <tr>\n",
       "      <th>6096</th>\n",
       "      <td>5.459464</td>\n",
       "      <td>2.556303</td>\n",
       "      <td>3.829262</td>\n",
       "      <td>3.177417</td>\n",
       "      <td>3.490274</td>\n",
       "      <td>5.671573</td>\n",
       "      <td>3.113665</td>\n",
       "      <td>3.276892</td>\n",
       "      <td>3.815486</td>\n",
       "      <td>3.664600</td>\n",
       "      <td>...</td>\n",
       "      <td>6.449306</td>\n",
       "      <td>3.613872</td>\n",
       "      <td>3.788332</td>\n",
       "      <td>3.561833</td>\n",
       "      <td>2.747432</td>\n",
       "      <td>6.196064</td>\n",
       "      <td>3.619795</td>\n",
       "      <td>2.558513</td>\n",
       "      <td>5.591333</td>\n",
       "      <td>2.435195</td>\n",
       "    </tr>\n",
       "  </tbody>\n",
       "</table>\n",
       "<p>415 rows × 100 columns</p>\n",
       "</div>"
      ],
      "text/plain": [
       "       type_0_cell_0  type_0_cell_1  type_0_cell_2  type_0_cell_3  \\\n",
       "4842        0.560621       1.197514       0.023346       0.770549   \n",
       "10365       1.153734       1.190627       0.100355       0.083708   \n",
       "4843        1.542440       0.000000       1.593493       0.815023   \n",
       "4846        1.827590       1.105600       0.642143       1.669399   \n",
       "445         0.537868       0.601998       1.245798       0.055588   \n",
       "...              ...            ...            ...            ...   \n",
       "3125        1.121502       0.289981       2.544143       1.173548   \n",
       "3126        0.321784       0.825015       0.371900       0.339016   \n",
       "3127        1.012153       0.900840       0.391178       2.614706   \n",
       "6095        1.004292       0.492185       1.724344       0.636762   \n",
       "6096        5.459464       2.556303       3.829262       3.177417   \n",
       "\n",
       "       type_0_cell_4  type_0_cell_5  type_0_cell_6  type_0_cell_7  \\\n",
       "4842        0.776099       0.395308       0.753965       0.000000   \n",
       "10365       0.298895       0.549488       1.244715       0.507445   \n",
       "4843        2.364566       7.406224       0.766968       1.840057   \n",
       "4846        0.995652       1.292950       1.944649       0.390610   \n",
       "445         0.317004       0.395770       0.585509       0.932359   \n",
       "...              ...            ...            ...            ...   \n",
       "3125        1.753416       0.334835       1.256120       1.819655   \n",
       "3126        0.867026       0.194946       0.373109       1.003808   \n",
       "3127        0.862785       0.971745       0.331950       0.151106   \n",
       "6095        0.346012       0.861753       0.284647       0.591574   \n",
       "6096        3.490274       5.671573       3.113665       3.276892   \n",
       "\n",
       "       type_0_cell_8  type_0_cell_9  ...  type_0_cell_90  type_0_cell_91  \\\n",
       "4842        0.718456       0.026395  ...        0.347011        0.022724   \n",
       "10365       1.313205       0.000000  ...        0.425327        0.000000   \n",
       "4843        0.596388       1.338284  ...        3.778790        0.358384   \n",
       "4846        1.626936       0.635485  ...        1.383995        0.175594   \n",
       "445         0.589002       1.058474  ...        1.057482        1.193802   \n",
       "...              ...            ...  ...             ...             ...   \n",
       "3125        0.569953       1.876477  ...        0.614029        2.441266   \n",
       "3126        0.672469       0.915487  ...        0.076131        0.324421   \n",
       "3127        1.026358       0.276643  ...        0.828874        0.365461   \n",
       "6095        0.140583       0.830451  ...        3.223143        2.829619   \n",
       "6096        3.815486       3.664600  ...        6.449306        3.613872   \n",
       "\n",
       "       type_0_cell_92  type_0_cell_93  type_0_cell_94  type_0_cell_95  \\\n",
       "4842         0.578939        0.110999        0.751991        0.374620   \n",
       "10365        0.148299        0.702562        0.000000        1.016979   \n",
       "4843         2.792469        2.059052        1.660225        4.490920   \n",
       "4846         0.125911        0.646435        0.962099        2.635996   \n",
       "445          0.735958        1.046595        0.138776        1.157032   \n",
       "...               ...             ...             ...             ...   \n",
       "3125         1.104264        1.546160        1.846077        0.555509   \n",
       "3126         1.953277        0.921129        0.560876        0.149863   \n",
       "3127         0.747088        0.095492        1.946728        0.264345   \n",
       "6095         0.987722        0.588533        0.772121        4.961081   \n",
       "6096         3.788332        3.561833        2.747432        6.196064   \n",
       "\n",
       "       type_0_cell_96  type_0_cell_97  type_0_cell_98  type_0_cell_99  \n",
       "4842         0.649507        1.095068        0.570530        1.331280  \n",
       "10365        0.049338        1.066647        0.972460        0.372646  \n",
       "4843         1.226406        0.000000        1.447571        1.413631  \n",
       "4846         2.422280        1.022205        2.105545        3.074252  \n",
       "445          0.444185        0.717198        0.418052        0.067865  \n",
       "...               ...             ...             ...             ...  \n",
       "3125         1.650074        0.199517        1.187846        1.027346  \n",
       "3126         0.884143        0.800537        0.390002        0.291461  \n",
       "3127         0.711970        0.876153        0.890621        1.923911  \n",
       "6095         0.161044        0.662748        1.079608        0.205796  \n",
       "6096         3.619795        2.558513        5.591333        2.435195  \n",
       "\n",
       "[415 rows x 100 columns]"
      ]
     },
     "execution_count": 6,
     "metadata": {},
     "output_type": "execute_result"
    }
   ],
   "source": [
    "expr"
   ]
  },
  {
   "cell_type": "markdown",
   "id": "b770eab6",
   "metadata": {},
   "source": [
    "# Use custom graph from networkx"
   ]
  },
  {
   "cell_type": "code",
   "execution_count": 8,
   "id": "36198427",
   "metadata": {},
   "outputs": [],
   "source": [
    "import networkx as nx"
   ]
  },
  {
   "cell_type": "code",
   "execution_count": 12,
   "id": "cfd6f566",
   "metadata": {},
   "outputs": [],
   "source": [
    "# create a networkx.DiGraph()\n",
    "G = nx.DiGraph()\n",
    "G.add_edges_from([('1','2',{'weight':2}),('2','3',{'weight':-1}),('3','1',{'weight':3})])# if weight is not given, grn_from_networkx will parametrize automatically\n",
    "\n",
    "# convert the networkx.DiGraph() to a GRN object\n",
    "grn = grn_from_networkx(g= G, parametrize=False)"
   ]
  },
  {
   "cell_type": "code",
   "execution_count": 13,
   "id": "74c461f2",
   "metadata": {},
   "outputs": [],
   "source": [
    "mrs = grn.get_mrs()\n",
    "mr_profs = mrProfile(MR_names = mrs, n_types = 2)\n",
    "mr_profs.build_rnd(range_dict={'L': [1, 2.5], 'H': [3.5, 5]})\n",
    "grn.init(mr_profs, update_half_resp = True)\n",
    "sim = sergio(grn)\n",
    "sim.simulate(nCells = 200, noise_s = 1, safety_iter = 150, scale_iter = 10)"
   ]
  },
  {
   "cell_type": "code",
   "execution_count": 15,
   "id": "42498356",
   "metadata": {},
   "outputs": [],
   "source": [
    "expr = sim.getSimExpr()"
   ]
  },
  {
   "cell_type": "code",
   "execution_count": 23,
   "id": "b4ed76dc",
   "metadata": {},
   "outputs": [],
   "source": [
    "a = set(A.edges())\n",
    "a.add(1)#note that Sergio removes cycles"
   ]
  },
  {
   "cell_type": "markdown",
   "id": "c27f6a03",
   "metadata": {},
   "source": [
    "## Add Technical Noise _ Steady-State Simulations"
   ]
  },
  {
   "cell_type": "code",
   "execution_count": 16,
   "id": "722c72c1",
   "metadata": {},
   "outputs": [],
   "source": [
    "\"\"\"\n",
    "Add outlier genes\n",
    "\"\"\"\n",
    "expr_O = sim.outlier_effect(expr, outlier_prob = 0.01, mean = 0.8, scale = 1)\n",
    "\n",
    "\"\"\"\n",
    "Add Library Size Effect\n",
    "\"\"\"\n",
    "libFactor, expr_O_L = sim.lib_size_effect(expr_O, mean = 4.6, scale = 0.4)\n",
    "\n",
    "\"\"\"\n",
    "Add Dropouts\n",
    "\"\"\"\n",
    "binary_ind = sim.dropout_indicator(expr_O_L, shape = 6.5, percentile = 82)\n",
    "expr_O_L_D = np.multiply(binary_ind, expr_O_L)\n",
    "\n",
    "\"\"\"\n",
    "Convert to UMI count\n",
    "\"\"\"\n",
    "count_matrix = sim.convert_to_UMIcounts(expr_O_L_D)\n",
    "\n"
   ]
  },
  {
   "cell_type": "code",
   "execution_count": 23,
   "id": "216d0eb2-4b83-4afb-b49e-2d4097b1fdb5",
   "metadata": {},
   "outputs": [
    {
     "data": {
      "text/plain": [
       "((400, 417), (417, 400))"
      ]
     },
     "execution_count": 23,
     "metadata": {},
     "output_type": "execute_result"
    },
    {
     "data": {
      "image/png": "[encoded data removed]",
      "text/plain": [
       "<Figure size 640x480 with 1 Axes>"
      ]
     },
     "metadata": {},
     "output_type": "display_data"
    }
   ],
   "source": [
    "plt.hist(count_matrix.ravel())\n",
    "expr_O_L.shape,expr.shape"
   ]
  },
  {
   "cell_type": "markdown",
   "id": "01086d80-8e23-4813-9243-ff354fba8fc9",
   "metadata": {},
   "source": [
    "# Simulate perturbation\n",
    "In the following, we perturb nodes that have a successor, and we measure the effect of perturbation."
   ]
  },
  {
   "cell_type": "code",
   "execution_count": 3,
   "id": "a450cb8d-8487-4dad-8ac3-c6a0092b67a3",
   "metadata": {},
   "outputs": [],
   "source": [
    "from SERGIO._perturbation import perturbation"
   ]
  },
  {
   "cell_type": "markdown",
   "id": "fe6e70ea-e0aa-4a8d-a553-6db1b2d9395a",
   "metadata": {},
   "source": [
    "select production rate for nodes perturbed with crispri and crispra. The idea is that\n",
    "`basal_prod_crispri`$\\ll$`basal_prod_crispra ` should be a small number, while\n"
   ]
  },
  {
   "cell_type": "code",
   "execution_count": 4,
   "id": "b49a4a21-5d79-4cd2-88cd-4221c333a1fb",
   "metadata": {},
   "outputs": [
    {
     "name": "stderr",
     "output_type": "stream",
     "text": [
      "INFO:SERGIO._perturbation:Number of nodes will be perturbed is 63\n"
     ]
    }
   ],
   "source": [
    "pert = perturbation(grn)\n",
    "pert.init(basal_prod_crispri = 0.2,basal_prod_crispra = 7)#select production rate for nodes perturbed with crispri and crispra."
   ]
  },
  {
   "cell_type": "code",
   "execution_count": null,
   "id": "e0fdcbeb-e6e5-4ff4-817f-508bf1085ada",
   "metadata": {},
   "outputs": [],
   "source": [
    "%time pert.perturbation_all(nCells=10)\n",
    "#pert.save()"
   ]
  },
  {
   "cell_type": "markdown",
   "id": "c2645338-1f93-4984-a911-fad68888818b",
   "metadata": {},
   "source": [
    "Now it has been generated `pert.crispri_data`,`pert.crispra_data` and `pert.wt`, which contains perturbation and wild type information.\n",
    "`pert.crispri_data` is structured as follows:\n",
    "- dimension 0 describes the index target gene\n",
    "- dimension 1 describe the index of genes whose expression is measured\n",
    "- dimension 2 describes the index of cell\n",
    "\n",
    "`pert.wt` is structured as follows:\n",
    "- dimension 0 describe the index of genes whose expression is measured\n",
    "- dimension 1 describes the index of cell\n",
    "\n",
    "The name of gene perturbed can be found from `nodes_2perturb`, and  the gene measured from `pert.gNames_`"
   ]
  },
  {
   "cell_type": "code",
   "execution_count": 6,
   "id": "1fd907c4-0447-4f48-866b-1a94a7b27b65",
   "metadata": {},
   "outputs": [
    {
     "data": {
      "text/plain": [
       "((54, 412, 10), (412, 10))"
      ]
     },
     "execution_count": 6,
     "metadata": {},
     "output_type": "execute_result"
    }
   ],
   "source": [
    "pert.crispri_data.shape,pert.wt.shape"
   ]
  },
  {
   "cell_type": "markdown",
   "id": "6b54a7b4-8b0f-4170-b191-92565ff03a62",
   "metadata": {},
   "source": [
    "visualise the effect of perturbation"
   ]
  },
  {
   "cell_type": "code",
   "execution_count": 15,
   "id": "c182341a-434e-4d60-9f61-1c052d356f2b",
   "metadata": {},
   "outputs": [
    {
     "data": {
      "text/plain": [
       "Text(0.5, 1.0, 'Expression of node 4286')"
      ]
     },
     "execution_count": 15,
     "metadata": {},
     "output_type": "execute_result"
    },
    {
     "data": {
      "image/png": "[encoded data removed]",
      "text/plain": [
       "<Figure size 640x480 with 1 Axes>"
      ]
     },
     "metadata": {},
     "output_type": "display_data"
    }
   ],
   "source": [
    "\n",
    "node_perturb = pert.nodes_2perturb[1]#take the first element for demostration, you can take any element you like\n",
    "index_expr = pert.gNames_.index(node_perturb)#take the index of the node for the expression dimension\n",
    "sns.histplot(pert.wt[index_expr],label = 'control',stat = 'density')\n",
    "sns.histplot(pert.crispri_data[pert.nodes_2perturb == node_perturb,index_expr][0],label = 'crispri',stat = 'density')\n",
    "sns.histplot(pert.crispra_data[pert.nodes_2perturb == node_perturb,index_expr][0],label = 'crispra',stat = 'density')\n",
    "plt.legend()\n",
    "plt.title('Expression of node '+node_perturb)"
   ]
  },
  {
   "cell_type": "code",
   "execution_count": 16,
   "id": "e73461ea-a647-426e-b607-08e111180a56",
   "metadata": {},
   "outputs": [
    {
     "data": {
      "text/plain": [
       "Text(0.5, 1.0, 'Expression of node 4842')"
      ]
     },
     "execution_count": 16,
     "metadata": {},
     "output_type": "execute_result"
    },
    {
     "data": {
      "image/png": "[encoded data removed]",
      "text/plain": [
       "<Figure size 640x480 with 1 Axes>"
      ]
     },
     "metadata": {},
     "output_type": "display_data"
    }
   ],
   "source": [
    "G = pert.grn_.to_networkx()\n",
    "node_perturb,node_expr = list(G.edges())[0]#take a pair of gene interacting\n",
    "index_expr = pert.gNames_.index(node_expr)#take the index of the node for the expression dimension\n",
    "sns.histplot(pert.wt[index_expr],label = 'control',stat = 'density')\n",
    "sns.histplot(pert.crispri_data[pert.nodes_2perturb == node_perturb,index_expr][0],label = 'crispri',stat = 'density')\n",
    "sns.histplot(pert.crispra_data[pert.nodes_2perturb == node_perturb,index_expr][0],label = 'crispra',stat = 'density')\n",
    "plt.legend()\n",
    "plt.title('Expression of node '+node_expr)"
   ]
  },
  {
   "cell_type": "code",
   "execution_count": 7,
   "id": "2e38ae47-7c95-4902-af3d-0b3ab8dd5312",
   "metadata": {},
   "outputs": [],
   "source": [
    "wt,crispri,crispra = pert.technical_noise()"
   ]
  },
  {
   "cell_type": "code",
   "execution_count": 10,
   "id": "5c1d7d42-e377-4b0b-a111-ac81cd01b628",
   "metadata": {},
   "outputs": [
    {
     "data": {
      "text/plain": [
       "(42, 10, 417)"
      ]
     },
     "execution_count": 10,
     "metadata": {},
     "output_type": "execute_result"
    }
   ],
   "source": [
    "np.shape(crispri)"
   ]
  },
  {
   "cell_type": "code",
   "execution_count": 50,
   "id": "28d0c06b-40ea-4aa3-bb03-e43b4b2b37d1",
   "metadata": {},
   "outputs": [],
   "source": [
    "coun"
   ]
  },
  {
   "cell_type": "code",
   "execution_count": 11,
   "id": "e2b1bd6c-01f4-4815-b639-59f75ab34dda",
   "metadata": {},
   "outputs": [
    {
     "data": {
      "text/plain": [
       "(42, 417, 10)"
      ]
     },
     "execution_count": 11,
     "metadata": {},
     "output_type": "execute_result"
    }
   ],
   "source": [
    "pert.crispri_data.shape"
   ]
  },
  {
   "cell_type": "code",
   "execution_count": null,
   "id": "187e989b-a0d9-4baf-8299-01d3fc4d55ad",
   "metadata": {},
   "outputs": [],
   "source": [
    "pert.draw_net"
   ]
  }
 ],
 "metadata": {
  "kernelspec": {
   "display_name": "Python 3 (ipykernel)",
   "language": "python",
   "name": "python3"
  },
  "language_info": {
   "codemirror_mode": {
    "name": "ipython",
    "version": 3
   },
   "file_extension": ".py",
   "mimetype": "text/x-python",
   "name": "python",
   "nbconvert_exporter": "python",
   "pygments_lexer": "ipython3",
   "version": "3.9.18"
  }
 },
 "nbformat": 4,
 "nbformat_minor": 5
}
