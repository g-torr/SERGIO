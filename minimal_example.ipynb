{
 "cells": [
  {
   "cell_type": "code",
   "execution_count": 1,
   "id": "1da1038c",
   "metadata": {},
   "outputs": [],
   "source": [
    "import numpy as np\n",
    "from SERGIO.GRN import grn_from_human,grn_from_networkx\n",
    "from SERGIO._sergio import sergio\n",
    "from SERGIO.MR import mrProfile\n",
    "import pandas as pd\n",
    "from SERGIO.GRN._grn import GRN\n",
    "from SERGIO.GRN._components import Gene, SingleInteraction\n"
   ]
  },
  {
   "cell_type": "markdown",
   "id": "0cbf7001-5413-4255-9f18-1443d9c02698",
   "metadata": {},
   "source": [
    "# Simulate GRN"
   ]
  },
  {
   "cell_type": "markdown",
   "id": "0bf0eb6e",
   "metadata": {},
   "source": [
    "Use regulatory network from Zhi-Ping Liu, Canglin Wu, Hongyu Miao and Hulin Wu (2015). RegNetwork: an integrated database of transcriptional and posttranscriptional regulatory networks in human and mouse. Database 2015. doi: [10.1093/database/bav095](10.1093/database/bav095)"
   ]
  },
  {
   "cell_type": "code",
   "execution_count": 2,
   "id": "39f4c300",
   "metadata": {},
   "outputs": [],
   "source": [
    "grn = grn_from_human()"
   ]
  },
  {
   "cell_type": "code",
   "execution_count": 3,
   "id": "63799495",
   "metadata": {},
   "outputs": [],
   "source": [
    "\n",
    "mrs = grn.get_mrs()\n",
    "mr_profs = mrProfile(MR_names = mrs, n_types = 1)\n",
    "mr_profs.build_rnd(range_dict={'L': [1, 2.5], 'H': [3.5, 5]})\n"
   ]
  },
  {
   "cell_type": "code",
   "execution_count": 30,
   "id": "920781f2",
   "metadata": {},
   "outputs": [
    {
     "name": "stdout",
     "output_type": "stream",
     "text": [
      "CPU times: user 13 s, sys: 5.01 ms, total: 13 s\n",
      "Wall time: 13 s\n"
     ]
    }
   ],
   "source": [
    "grn.init(mr_profs, update_half_resp = True)\n",
    "sim = sergio(grn)\n",
    "%time sim.simulate(nCells = 100, noise_s = 1, safety_iter = 150, scale_iter = 10)"
   ]
  },
  {
   "cell_type": "code",
   "execution_count": 6,
   "id": "3a384409",
   "metadata": {},
   "outputs": [],
   "source": [
    "expr = sim.getSimExpr()"
   ]
  },
  {
   "cell_type": "markdown",
   "id": "b770eab6",
   "metadata": {},
   "source": [
    "# Use custom graph from networkx"
   ]
  },
  {
   "cell_type": "code",
   "execution_count": 8,
   "id": "36198427",
   "metadata": {},
   "outputs": [],
   "source": [
    "import networkx as nx"
   ]
  },
  {
   "cell_type": "code",
   "execution_count": 12,
   "id": "cfd6f566",
   "metadata": {},
   "outputs": [],
   "source": [
    "# create a networkx.DiGraph()\n",
    "G = nx.DiGraph()\n",
    "G.add_edges_from([('1','2',{'weight':2}),('2','3',{'weight':-1}),('3','1',{'weight':3})])# if weight is not given, grn_from_networkx will parametrize automatically\n",
    "\n",
    "# convert the networkx.DiGraph() to a GRN object\n",
    "grn = grn_from_networkx(g= G, parametrize=False)"
   ]
  },
  {
   "cell_type": "code",
   "execution_count": 13,
   "id": "74c461f2",
   "metadata": {},
   "outputs": [],
   "source": [
    "mrs = grn.get_mrs()\n",
    "mr_profs = mrProfile(MR_names = mrs, n_types = 2)\n",
    "mr_profs.build_rnd(range_dict={'L': [1, 2.5], 'H': [3.5, 5]})\n",
    "grn.init(mr_profs, update_half_resp = True)\n",
    "sim = sergio(grn)\n",
    "sim.simulate(nCells = 200, noise_s = 1, safety_iter = 150, scale_iter = 10)"
   ]
  },
  {
   "cell_type": "code",
   "execution_count": 13,
   "id": "42498356",
   "metadata": {},
   "outputs": [],
   "source": [
    "A = grn.to_networkx()"
   ]
  },
  {
   "cell_type": "code",
   "execution_count": 23,
   "id": "b4ed76dc",
   "metadata": {},
   "outputs": [],
   "source": [
    "a = set(A.edges())\n",
    "a.add(1)#note that Sergio removes cycles"
   ]
  },
  {
   "cell_type": "markdown",
   "id": "c27f6a03",
   "metadata": {},
   "source": [
    "## Add Technical Noise _ Steady-State Simulations"
   ]
  },
  {
   "cell_type": "code",
   "execution_count": 7,
   "id": "722c72c1",
   "metadata": {},
   "outputs": [],
   "source": [
    "\"\"\"\n",
    "Add outlier genes\n",
    "\"\"\"\n",
    "expr_O = sim.outlier_effect(expr, outlier_prob = 0.01, mean = 0.8, scale = 1)\n",
    "\n",
    "\"\"\"\n",
    "Add Library Size Effect\n",
    "\"\"\"\n",
    "libFactor, expr_O_L = sim.lib_size_effect(expr_O, mean = 4.6, scale = 0.4)\n",
    "\n",
    "\"\"\"\n",
    "Add Dropouts\n",
    "\"\"\"\n",
    "binary_ind = sim.dropout_indicator(expr_O_L, shape = 6.5, percentile = 82)\n",
    "expr_O_L_D = np.multiply(binary_ind, expr_O_L)\n",
    "\n",
    "\"\"\"\n",
    "Convert to UMI count\n",
    "\"\"\"\n",
    "count_matrix = sim.convert_to_UMIcounts(expr_O_L_D)\n",
    "\n"
   ]
  },
  {
   "cell_type": "markdown",
   "id": "01086d80-8e23-4813-9243-ff354fba8fc9",
   "metadata": {},
   "source": [
    "# Simulate perturbation\n",
    "In the following, we perturb nodes that have a successor, and we measure the effect of perturbation."
   ]
  },
  {
   "cell_type": "code",
   "execution_count": 3,
   "id": "a450cb8d-8487-4dad-8ac3-c6a0092b67a3",
   "metadata": {},
   "outputs": [],
   "source": [
    "from SERGIO._perturbation import perturbation"
   ]
  },
  {
   "cell_type": "markdown",
   "id": "fe6e70ea-e0aa-4a8d-a553-6db1b2d9395a",
   "metadata": {},
   "source": [
    "select production rate for nodes perturbed with crispri and crispra. The idea is that\n",
    "`basal_prod_crispri`$\\ll$`basal_prod_crispra ` should be a small number, while\n"
   ]
  },
  {
   "cell_type": "code",
   "execution_count": 4,
   "id": "b49a4a21-5d79-4cd2-88cd-4221c333a1fb",
   "metadata": {},
   "outputs": [
    {
     "name": "stderr",
     "output_type": "stream",
     "text": [
      "INFO:SERGIO._perturbation:Number of nodes will be perturbed is 43\n"
     ]
    }
   ],
   "source": [
    "pert = perturbation(grn)\n",
    "pert.init(basal_prod_crispri = 0.2,basal_prod_crispra = 7)#select production rate for nodes perturbed with crispri and crispra."
   ]
  },
  {
   "cell_type": "code",
   "execution_count": 5,
   "id": "e0fdcbeb-e6e5-4ff4-817f-508bf1085ada",
   "metadata": {},
   "outputs": [
    {
     "name": "stdout",
     "output_type": "stream",
     "text": [
      "CPU times: user 41.3 s, sys: 2.2 s, total: 43.5 s\n",
      "Wall time: 2min 18s\n"
     ]
    }
   ],
   "source": [
    "%time pert.perturbation_all(nCells=100)\n",
    "#pert.save()"
   ]
  },
  {
   "cell_type": "markdown",
   "id": "c2645338-1f93-4984-a911-fad68888818b",
   "metadata": {},
   "source": [
    "Now it has been generated `pert.crispri_data`,`pert.crispra_data` and `pert.wt`, which contains perturbation and wild type information.\n",
    "`pert.crispri_data` is structured as follows:\n",
    "- dimension 0 describes the index target gene\n",
    "- dimension 1 describe the index of genes whose expression is measured\n",
    "- dimension 2 describes the index of cell\n",
    "\n",
    "`pert.wt` is structured as follows:\n",
    "- dimension 0 describe the index of genes whose expression is measured\n",
    "- dimension 1 describes the index of cell\n",
    "\n",
    "The name of gene perturbed can be found from `nodes_2perturb`, and  the gene measured from `pert.gNames_`"
   ]
  },
  {
   "cell_type": "code",
   "execution_count": 9,
   "id": "1fd907c4-0447-4f48-866b-1a94a7b27b65",
   "metadata": {},
   "outputs": [
    {
     "data": {
      "text/plain": [
       "((43, 400, 100), (400, 100))"
      ]
     },
     "execution_count": 9,
     "metadata": {},
     "output_type": "execute_result"
    }
   ],
   "source": [
    "pert.crispri_data.shape,pert.wt.shape"
   ]
  },
  {
   "cell_type": "markdown",
   "id": "6b54a7b4-8b0f-4170-b191-92565ff03a62",
   "metadata": {},
   "source": [
    "visualise the effect of perturbation"
   ]
  },
  {
   "cell_type": "code",
   "execution_count": 49,
   "id": "c182341a-434e-4d60-9f61-1c052d356f2b",
   "metadata": {},
   "outputs": [
    {
     "data": {
      "text/plain": [
       "<matplotlib.legend.Legend at 0x7f3dd17f2250>"
      ]
     },
     "execution_count": 49,
     "metadata": {},
     "output_type": "execute_result"
    },
    {
     "data": {
      "image/png": "[encoded data removed]",
      "text/plain": [
       "<Figure size 640x480 with 1 Axes>"
      ]
     },
     "metadata": {},
     "output_type": "display_data"
    }
   ],
   "source": [
    "import seaborn as sns\n",
    "import matplotlib.pyplot as plt\n",
    "node_perturb = pert.nodes_2perturb[0]#take the first element for demostration, you can take any element you like\n",
    "index_expr = pert.gNames_.index(node_perturb)#take the index of the node for the expression dimension\n",
    "sns.histplot(pert.wt[index_expr],label = 'control')\n",
    "sns.histplot(pert.crispri_data[pert.nodes_2perturb == node_perturb,index_expr][0],label = 'crispri')\n",
    "sns.histplot(pert.crispra_data[pert.nodes_2perturb == node_perturb,index_expr][0],label = 'crispra')\n",
    "plt.legend()"
   ]
  },
  {
   "cell_type": "code",
   "execution_count": 50,
   "id": "28d0c06b-40ea-4aa3-bb03-e43b4b2b37d1",
   "metadata": {},
   "outputs": [],
   "source": [
    "#to do add technical noise to perturbation object"
   ]
  },
  {
   "cell_type": "code",
   "execution_count": null,
   "id": "e2b1bd6c-01f4-4815-b639-59f75ab34dda",
   "metadata": {},
   "outputs": [],
   "source": []
  },
  {
   "cell_type": "code",
   "execution_count": null,
   "id": "187e989b-a0d9-4baf-8299-01d3fc4d55ad",
   "metadata": {},
   "outputs": [],
   "source": []
  }
 ],
 "metadata": {
  "kernelspec": {
   "display_name": "Python 3 (ipykernel)",
   "language": "python",
   "name": "python3"
  },
  "language_info": {
   "codemirror_mode": {
    "name": "ipython",
    "version": 3
   },
   "file_extension": ".py",
   "mimetype": "text/x-python",
   "name": "python",
   "nbconvert_exporter": "python",
   "pygments_lexer": "ipython3",
   "version": "3.9.18"
  }
 },
 "nbformat": 4,
 "nbformat_minor": 5
}
