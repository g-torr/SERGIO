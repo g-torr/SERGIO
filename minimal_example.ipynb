{
 "cells": [
  {
   "cell_type": "code",
   "execution_count": 1,
   "id": "1da1038c",
   "metadata": {},
   "outputs": [],
   "source": [
    "import numpy as np\n",
    "from SERGIO.GRN import grn_from_human,grn_from_networkx\n",
    "from SERGIO._sergio import sergio\n",
    "from SERGIO.MR import mrProfile\n",
    "import pandas as pd\n",
    "from SERGIO.GRN._grn import GRN\n",
    "from SERGIO.GRN._components import Gene, SingleInteraction\n"
   ]
  },
  {
   "cell_type": "markdown",
   "id": "0bf0eb6e",
   "metadata": {},
   "source": [
    "Use regulatory network from Zhi-Ping Liu, Canglin Wu, Hongyu Miao and Hulin Wu (2015). RegNetwork: an integrated database of transcriptional and posttranscriptional regulatory networks in human and mouse. Database 2015. doi: [10.1093/database/bav095](10.1093/database/bav095)"
   ]
  },
  {
   "cell_type": "code",
   "execution_count": 2,
   "id": "39f4c300",
   "metadata": {},
   "outputs": [],
   "source": [
    "grn = grn_from_human()"
   ]
  },
  {
   "cell_type": "code",
   "execution_count": 3,
   "id": "63799495",
   "metadata": {},
   "outputs": [],
   "source": [
    "\n",
    "mrs = grn.get_mrs()\n",
    "mr_profs = mrProfile(MR_names = mrs, n_types = 1)\n",
    "mr_profs.build_rnd(range_dict={'L': [1, 2.5], 'H': [3.5, 5]})\n"
   ]
  },
  {
   "cell_type": "code",
   "execution_count": 4,
   "id": "920781f2",
   "metadata": {},
   "outputs": [
    {
     "name": "stdout",
     "output_type": "stream",
     "text": [
      "CPU times: user 9.66 s, sys: 16.4 ms, total: 9.68 s\n",
      "Wall time: 9.67 s\n"
     ]
    }
   ],
   "source": [
    "grn.init(mr_profs, update_half_resp = True)\n",
    "sim = sergio(grn)\n",
    "%time sim.simulate(nCells = 100, noise_s = 1, safety_iter = 150, scale_iter = 10)"
   ]
  },
  {
   "cell_type": "code",
   "execution_count": 7,
   "id": "3a384409",
   "metadata": {},
   "outputs": [],
   "source": [
    "expr = sim.getSimExpr()"
   ]
  },
  {
   "cell_type": "code",
   "execution_count": 6,
   "id": "ed8fcd8f",
   "metadata": {},
   "outputs": [],
   "source": [
    "grn.init(mr_profs, update_half_resp = True)\n",
    "sim_gpu = sergio(grn)\n",
    "#%time sim_gpu.simulate_gpu(nCells = 1000, noise_s = 1, safety_iter = 150, scale_iter = 10)"
   ]
  },
  {
   "cell_type": "code",
   "execution_count": null,
   "id": "f30a1fbf",
   "metadata": {},
   "outputs": [],
   "source": []
  },
  {
   "cell_type": "markdown",
   "id": "b770eab6",
   "metadata": {},
   "source": [
    "# Use custom graph from networkx"
   ]
  },
  {
   "cell_type": "code",
   "execution_count": 8,
   "id": "36198427",
   "metadata": {},
   "outputs": [],
   "source": [
    "import networkx as nx"
   ]
  },
  {
   "cell_type": "code",
   "execution_count": 12,
   "id": "cfd6f566",
   "metadata": {},
   "outputs": [],
   "source": [
    "# create a networkx.DiGraph()\n",
    "G = nx.DiGraph()\n",
    "G.add_edges_from([('1','2',{'weight':2}),('2','3',{'weight':-1}),('3','1',{'weight':3})])# if weight is not given, grn_from_networkx will parametrize automatically\n",
    "\n",
    "# convert the networkx.DiGraph() to a GRN object\n",
    "grn = grn_from_networkx(g= G, parametrize=False)"
   ]
  },
  {
   "cell_type": "code",
   "execution_count": 13,
   "id": "74c461f2",
   "metadata": {},
   "outputs": [],
   "source": [
    "mrs = grn.get_mrs()\n",
    "mr_profs = mrProfile(MR_names = mrs, n_types = 2)\n",
    "mr_profs.build_rnd(range_dict={'L': [1, 2.5], 'H': [3.5, 5]})\n",
    "grn.init(mr_profs, update_half_resp = True)\n",
    "sim = sergio(grn)\n",
    "sim.simulate(nCells = 200, noise_s = 1, safety_iter = 150, scale_iter = 10)"
   ]
  },
  {
   "cell_type": "code",
   "execution_count": 13,
   "id": "42498356",
   "metadata": {},
   "outputs": [],
   "source": [
    "A = grn.to_networkx()"
   ]
  },
  {
   "cell_type": "code",
   "execution_count": 23,
   "id": "b4ed76dc",
   "metadata": {},
   "outputs": [],
   "source": [
    "a = set(A.edges())\n",
    "a.add(1)#note that Sergio removes cycles"
   ]
  },
  {
   "cell_type": "markdown",
   "id": "c27f6a03",
   "metadata": {},
   "source": [
    "## Add Technical Noise _ Steady-State Simulations"
   ]
  },
  {
   "cell_type": "code",
   "execution_count": 11,
   "id": "722c72c1",
   "metadata": {},
   "outputs": [
    {
     "ename": "AttributeError",
     "evalue": "'sergio' object has no attribute 'nGenes_'",
     "output_type": "error",
     "traceback": [
      "\u001b[0;31m---------------------------------------------------------------------------\u001b[0m",
      "\u001b[0;31mAttributeError\u001b[0m                            Traceback (most recent call last)",
      "Cell \u001b[0;32mIn[11], line 4\u001b[0m\n\u001b[1;32m      1\u001b[0m \u001b[38;5;124;03m\"\"\"\u001b[39;00m\n\u001b[1;32m      2\u001b[0m \u001b[38;5;124;03mAdd outlier genes\u001b[39;00m\n\u001b[1;32m      3\u001b[0m \u001b[38;5;124;03m\"\"\"\u001b[39;00m\n\u001b[0;32m----> 4\u001b[0m expr_O \u001b[38;5;241m=\u001b[39m \u001b[43msim\u001b[49m\u001b[38;5;241;43m.\u001b[39;49m\u001b[43moutlier_effect\u001b[49m\u001b[43m(\u001b[49m\u001b[43mexpr\u001b[49m\u001b[43m,\u001b[49m\u001b[43m \u001b[49m\u001b[43moutlier_prob\u001b[49m\u001b[43m \u001b[49m\u001b[38;5;241;43m=\u001b[39;49m\u001b[43m \u001b[49m\u001b[38;5;241;43m0.01\u001b[39;49m\u001b[43m,\u001b[49m\u001b[43m \u001b[49m\u001b[43mmean\u001b[49m\u001b[43m \u001b[49m\u001b[38;5;241;43m=\u001b[39;49m\u001b[43m \u001b[49m\u001b[38;5;241;43m0.8\u001b[39;49m\u001b[43m,\u001b[49m\u001b[43m \u001b[49m\u001b[43mscale\u001b[49m\u001b[43m \u001b[49m\u001b[38;5;241;43m=\u001b[39;49m\u001b[43m \u001b[49m\u001b[38;5;241;43m1\u001b[39;49m\u001b[43m)\u001b[49m\n\u001b[1;32m      6\u001b[0m \u001b[38;5;124;03m\"\"\"\u001b[39;00m\n\u001b[1;32m      7\u001b[0m \u001b[38;5;124;03mAdd Library Size Effect\u001b[39;00m\n\u001b[1;32m      8\u001b[0m \u001b[38;5;124;03m\"\"\"\u001b[39;00m\n\u001b[1;32m      9\u001b[0m libFactor, expr_O_L \u001b[38;5;241m=\u001b[39m sim\u001b[38;5;241m.\u001b[39mlib_size_effect(expr_O, mean \u001b[38;5;241m=\u001b[39m \u001b[38;5;241m4.6\u001b[39m, scale \u001b[38;5;241m=\u001b[39m \u001b[38;5;241m0.4\u001b[39m)\n",
      "File \u001b[0;32m~/devices/GRN_stuff/Sergio_perturbation/SERGIO/_sergio.py:171\u001b[0m, in \u001b[0;36msergio.outlier_effect\u001b[0;34m(self, scData, outlier_prob, mean, scale)\u001b[0m\n\u001b[1;32m    167\u001b[0m \u001b[38;5;28;01mdef\u001b[39;00m \u001b[38;5;21moutlier_effect\u001b[39m(\u001b[38;5;28mself\u001b[39m, scData, outlier_prob, mean, scale):\n\u001b[1;32m    168\u001b[0m \u001b[38;5;250m    \u001b[39m\u001b[38;5;124;03m\"\"\"\u001b[39;00m\n\u001b[1;32m    169\u001b[0m \u001b[38;5;124;03m    This function\u001b[39;00m\n\u001b[1;32m    170\u001b[0m \u001b[38;5;124;03m    \"\"\"\u001b[39;00m\n\u001b[0;32m--> 171\u001b[0m     out_indicator \u001b[38;5;241m=\u001b[39m np\u001b[38;5;241m.\u001b[39mrandom\u001b[38;5;241m.\u001b[39mbinomial(n \u001b[38;5;241m=\u001b[39m \u001b[38;5;241m1\u001b[39m, p \u001b[38;5;241m=\u001b[39m outlier_prob, size \u001b[38;5;241m=\u001b[39m \u001b[38;5;28;43mself\u001b[39;49m\u001b[38;5;241;43m.\u001b[39;49m\u001b[43mnGenes_\u001b[49m)\n\u001b[1;32m    172\u001b[0m     outlierGenesIndx \u001b[38;5;241m=\u001b[39m np\u001b[38;5;241m.\u001b[39mwhere(out_indicator \u001b[38;5;241m==\u001b[39m \u001b[38;5;241m1\u001b[39m)[\u001b[38;5;241m0\u001b[39m]\n\u001b[1;32m    173\u001b[0m     numOutliers \u001b[38;5;241m=\u001b[39m \u001b[38;5;28mlen\u001b[39m(outlierGenesIndx)\n",
      "\u001b[0;31mAttributeError\u001b[0m: 'sergio' object has no attribute 'nGenes_'"
     ]
    }
   ],
   "source": [
    "\"\"\"\n",
    "Add outlier genes\n",
    "\"\"\"\n",
    "expr_O = sim.outlier_effect(expr, outlier_prob = 0.01, mean = 0.8, scale = 1)\n",
    "\n",
    "\"\"\"\n",
    "Add Library Size Effect\n",
    "\"\"\"\n",
    "libFactor, expr_O_L = sim.lib_size_effect(expr_O, mean = 4.6, scale = 0.4)\n",
    "\n",
    "\"\"\"\n",
    "Add Dropouts\n",
    "\"\"\"\n",
    "binary_ind = sim.dropout_indicator(expr_O_L, shape = 6.5, percentile = 82)\n",
    "expr_O_L_D = np.multiply(binary_ind, expr_O_L)\n",
    "\n",
    "\"\"\"\n",
    "Convert to UMI count\n",
    "\"\"\"\n",
    "count_matrix = sim.convert_to_UMIcounts(expr_O_L_D)\n",
    "\n",
    "\"\"\"\n",
    "Make a 2d gene expression matrix\n",
    "\"\"\"\n",
    "count_matrix = np.concatenate(count_matrix, axis = 1)"
   ]
  },
  {
   "cell_type": "code",
   "execution_count": 15,
   "id": "1b382462",
   "metadata": {},
   "outputs": [
    {
     "data": {
      "text/plain": [
       "<SERGIO.GRN._grn.GRN at 0x7feccc609c30>"
      ]
     },
     "execution_count": 15,
     "metadata": {},
     "output_type": "execute_result"
    }
   ],
   "source": []
  },
  {
   "cell_type": "code",
   "execution_count": null,
   "id": "4cfe1b54",
   "metadata": {},
   "outputs": [],
   "source": [
    "def outlier_effect(scData, outlier_prob, mean, scale):\n",
    "    \"\"\"\n",
    "    This function\n",
    "    \"\"\"\n",
    "    out_indicator = np.random.binomial(n = 1, p = outlier_prob, size = len(scData))\n",
    "    outlierGenesIndx = np.where(out_indicator == 1)[0]\n",
    "    numOutliers = len(outlierGenesIndx)\n",
    "\n",
    "    #### generate outlier factors ####\n",
    "    outFactors = np.random.lognormal(mean = mean, sigma = scale, size = numOutliers)\n",
    "    ##################################\n",
    "\n",
    "    scData = np.concatenate(scData, axis = 1)\n",
    "    for i, gIndx in enumerate(outlierGenesIndx):\n",
    "        scData[gIndx,:] = scData[gIndx,:] * outFactors[i]\n",
    "\n",
    "    return np.split(scData, self.nBins_, axis = 1)\n"
   ]
  }
 ],
 "metadata": {
  "kernelspec": {
   "display_name": "cuml",
   "language": "python",
   "name": "cuml"
  },
  "language_info": {
   "codemirror_mode": {
    "name": "ipython",
    "version": 3
   },
   "file_extension": ".py",
   "mimetype": "text/x-python",
   "name": "python",
   "nbconvert_exporter": "python",
   "pygments_lexer": "ipython3",
   "version": "3.10.12"
  }
 },
 "nbformat": 4,
 "nbformat_minor": 5
}
