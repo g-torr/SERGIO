{
 "cells": [
  {
   "cell_type": "code",
   "execution_count": 1,
   "metadata": {},
   "outputs": [],
   "source": [
    "import numpy as np\n",
    "import pandas as pd\n",
    "from SERGIO.sergio import sergio"
   ]
  },
  {
   "cell_type": "markdown",
   "metadata": {},
   "source": [
    "# Simulate Clean Data _ Steady-State Simulation"
   ]
  },
  {
   "cell_type": "code",
   "execution_count": 49,
   "metadata": {},
   "outputs": [
    {
     "data": {
      "text/plain": [
       "(7, 93, 9)"
      ]
     },
     "execution_count": 49,
     "metadata": {},
     "output_type": "execute_result"
    }
   ],
   "source": [
    "path = 'data_sets/De-noised_100G_9T_300cPerT_4_DS1/'\n",
    "input_file_taregts=  path + 'Interaction_cID_4.txt'\n",
    "input_file_regs= path + 'Regs_cID_4.txt'\n",
    "\n",
    "def input_parameters_from_datafiles(input_file_regs,input_file_taregts):\n",
    "    tb = pd.read_csv(input_file_regs,sep = ',',header = None,index_col=0)\n",
    "    n_MR, n_celltypes = tb.shape#n_MR number of Master regulator\n",
    "    \n",
    "    with open(input_file_taregts) as f:\n",
    "        reader = csv.reader(f, delimiter=\"\\t\")\n",
    "        for count,line in enumerate(reader):\n",
    "            pass\n",
    "    n_reg_genes = count+1#number of regulated genes, i.e. genes that are not master regulator\n",
    "    return n_MR,n_reg_genes,n_celltypes\n",
    "n_MR,n_reg_genes,n_celltypes = input_parameters_from_datafiles(input_file_regs,input_file_taregts)\n",
    "n_MR,n_reg_genes,n_celltypes\n"
   ]
  },
  {
   "cell_type": "code",
   "execution_count": 48,
   "metadata": {},
   "outputs": [
    {
     "name": "stdout",
     "output_type": "stream",
     "text": [
      "Start simulating new level\n",
      "There are 4 genes to simulate in this layer\n",
      "Done with current level\n",
      "Start simulating new level\n",
      "There are 6 genes to simulate in this layer\n",
      "Done with current level\n",
      "Start simulating new level\n",
      "There are 90 genes to simulate in this layer\n",
      "Done with current level\n"
     ]
    }
   ],
   "source": [
    "sim = sergio(number_genes=n_MR+n_reg_genes, number_bins = n_celltypes, number_sc = 300, noise_params = 1, decays=0.8, sampling_state=15, noise_type='dpd')\n",
    "sim.build_graph(input_file_taregts = input_file_taregts, input_file_regs= input_file_regs, shared_coop_state=2)\n",
    "sim.simulate()\n",
    "expr = sim.getExpressions()\n",
    "expr_clean = np.concatenate(expr, axis = 1)"
   ]
  },
  {
   "cell_type": "code",
   "execution_count": 40,
   "metadata": {},
   "outputs": [
    {
     "data": {
      "text/plain": [
       "7"
      ]
     },
     "execution_count": 40,
     "metadata": {},
     "output_type": "execute_result"
    }
   ],
   "source": [
    "\n",
    "n_MR"
   ]
  },
  {
   "cell_type": "markdown",
   "metadata": {
    "collapsed": true
   },
   "source": [
    "# Add Technical Noise _ Steady-State Simulations"
   ]
  },
  {
   "cell_type": "code",
   "execution_count": 7,
   "metadata": {},
   "outputs": [],
   "source": [
    "\"\"\"\n",
    "Add outlier genes\n",
    "\"\"\"\n",
    "expr_O = sim.outlier_effect(expr, outlier_prob = 0.01, mean = 0.8, scale = 1)\n",
    "\n",
    "\"\"\"\n",
    "Add Library Size Effect\n",
    "\"\"\"\n",
    "libFactor, expr_O_L = sim.lib_size_effect(expr_O, mean = 4.6, scale = 0.4)\n",
    "\n",
    "\"\"\"\n",
    "Add Dropouts\n",
    "\"\"\"\n",
    "binary_ind = sim.dropout_indicator(expr_O_L, shape = 6.5, percentile = 82)\n",
    "expr_O_L_D = np.multiply(binary_ind, expr_O_L)\n",
    "\n",
    "\"\"\"\n",
    "Convert to UMI count\n",
    "\"\"\"\n",
    "count_matrix = sim.convert_to_UMIcounts(expr_O_L_D)\n",
    "\n",
    "\"\"\"\n",
    "Make a 2d gene expression matrix\n",
    "\"\"\"\n",
    "count_matrix = np.concatenate(count_matrix, axis = 1)"
   ]
  },
  {
   "cell_type": "markdown",
   "metadata": {},
   "source": [
    "# Simulate Clean Data _ differentiation Simulation"
   ]
  },
  {
   "cell_type": "code",
   "execution_count": null,
   "metadata": {
    "collapsed": true
   },
   "outputs": [],
   "source": [
    "df = pd.read_csv('data_sets/De-noised_100G_6T_300cPerT_dynamics_7_DS6/bMat_cID7.tab', sep='\\t', header=None, index_col=None)\n",
    "bMat = df.values\n",
    "\n",
    "sim = sergio(number_genes=100, number_bins = 6, number_sc = 300, noise_params = 0.2, decays=0.8, sampling_state = 1, noise_params_splice = 0.07, noise_type='dpd', dynamics=True, bifurcation_matrix= bMat)\n",
    "sim.build_graph(input_file_taregts ='data_sets/De-noised_100G_6T_300cPerT_dynamics_7_DS6/Interaction_cID_7.txt', input_file_regs='data_sets/De-noised_100G_6T_300cPerT_dynamics_7_DS6/Regs_cID_7.txt', shared_coop_state=2)\n",
    "sim.simulate_dynamics()\n",
    "exprU, exprS = sim.getExpressions_dynamics()\n",
    "exprU_clean = np.concatenate(exprU, axis = 1)\n",
    "exprS_clean = np.concatenate(exprS, axis = 1)"
   ]
  },
  {
   "cell_type": "markdown",
   "metadata": {},
   "source": [
    "# Add Technical Noise _ differentiation Simulations"
   ]
  },
  {
   "cell_type": "code",
   "execution_count": null,
   "metadata": {
    "collapsed": true
   },
   "outputs": [],
   "source": [
    "\"\"\"\n",
    "Add outlier genes\n",
    "\"\"\"\n",
    "exprU_O, exprS_O = sim.outlier_effect_dynamics(exprU, exprS, outlier_prob = 0.01, mean = 0.8, scale = 1)\n",
    "\n",
    "\"\"\"\n",
    "Add Library Size Effect\n",
    "\"\"\"\n",
    "libFactor, exprU_O_L, exprS_O_L = sim.lib_size_effect_dynamics(exprU_O, exprS_O, mean = 4.6, scale = 0.4)\n",
    "\n",
    "\"\"\"\n",
    "Add Dropouts\n",
    "\"\"\"\n",
    "binary_indU, binary_indS = sim.dropout_indicator_dynamics(exprU_O_L, exprS_O_L, shape = 6.5, percentile = 82)\n",
    "exprU_O_L_D = np.multiply(binary_indU, exprU_O_L)\n",
    "exprS_O_L_D = np.multiply(binary_indS, exprS_O_L)\n",
    "\n",
    "\"\"\"\n",
    "Convert to UMI count\n",
    "\"\"\"\n",
    "count_matrix_U, count_matrix_S = sim.convert_to_UMIcounts_dynamics(exprU_O_L_D, exprS_O_L_D)\n",
    "\n",
    "\"\"\"\n",
    "Make 2d spliced and unspliced expression matrices\n",
    "\"\"\"\n",
    "count_matrix_U = np.concatenate(count_matrix_U, axis = 1)\n",
    "count_matrix_S = np.concatenate(count_matrix_S, axis = 1)"
   ]
  },
  {
   "cell_type": "markdown",
   "metadata": {},
   "source": [
    "### Create a network from here"
   ]
  },
  {
   "cell_type": "code",
   "execution_count": 4,
   "metadata": {},
   "outputs": [],
   "source": [
    "import scanpy as sc\n",
    "import pandas as pd\n",
    "import csv\n",
    "import networkx as nx\n",
    "from SERGIO.utils import convert_interaction_net_to_networkx"
   ]
  },
  {
   "cell_type": "code",
   "execution_count": 5,
   "metadata": {},
   "outputs": [
    {
     "name": "stderr",
     "output_type": "stream",
     "text": [
      "/tmp/ipykernel_46514/1367336537.py:1: FutureWarning: X.dtype being converted to np.float32 from float64. In the next version of anndata (0.9) conversion will not be automatic. Pass dtype explicitly to avoid this warning. Pass `AnnData(X, dtype=X.dtype, ...)` to get the future behavour.\n",
      "  adata = sc.AnnData(expr_clean.T)\n",
      "/tmp/ipykernel_46514/1367336537.py:2: FutureWarning: X.dtype being converted to np.float32 from int64. In the next version of anndata (0.9) conversion will not be automatic. Pass dtype explicitly to avoid this warning. Pass `AnnData(X, dtype=X.dtype, ...)` to get the future behavour.\n",
      "  adata.raw = sc.AnnData(count_matrix.T)\n"
     ]
    }
   ],
   "source": [
    "\n",
    "adata = sc.AnnData(expr_clean.T)\n",
    "adata.raw = sc.AnnData(count_matrix.T)"
   ]
  },
  {
   "cell_type": "code",
   "execution_count": null,
   "metadata": {},
   "outputs": [],
   "source": []
  },
  {
   "cell_type": "code",
   "execution_count": 17,
   "metadata": {},
   "outputs": [],
   "source": [
    "\n",
    "G = convert_interaction_net_to_networkx(input_file_taregts)"
   ]
  },
  {
   "cell_type": "code",
   "execution_count": 18,
   "metadata": {},
   "outputs": [],
   "source": [
    "#to save data\n",
    "import pickle"
   ]
  },
  {
   "cell_type": "code",
   "execution_count": null,
   "metadata": {},
   "outputs": [],
   "source": [
    "dic = {'adata':adata,'G':G}\n",
    "# Store data (serialize)\n",
    "with open('', 'wb') as handle:\n",
    "    pickle.dump(dic, handle, protocol=pickle.HIGHEST_PROTOCOL)\n"
   ]
  },
  {
   "cell_type": "code",
   "execution_count": 9,
   "metadata": {},
   "outputs": [],
   "source": [
    "import matplotlib.pyplot as plt"
   ]
  },
  {
   "cell_type": "code",
   "execution_count": 12,
   "metadata": {},
   "outputs": [
    {
     "data": {
      "text/plain": [
       "(array([ 7.,  1.,  0., 62.,  0.,  9.,  6.,  0.,  8.,  7.]),\n",
       " array([0. , 0.6, 1.2, 1.8, 2.4, 3. , 3.6, 4.2, 4.8, 5.4, 6. ]),\n",
       " <BarContainer object of 10 artists>)"
      ]
     },
     "execution_count": 12,
     "metadata": {},
     "output_type": "execute_result"
    },
    {
     "data": {
      "image/png": "[encoded data removed]",
      "text/plain": [
       "<Figure size 432x288 with 1 Axes>"
      ]
     },
     "metadata": {
      "needs_background": "light"
     },
     "output_type": "display_data"
    }
   ],
   "source": [
    "plt.hist(dict(G.in_degree()).values())"
   ]
  },
  {
   "cell_type": "code",
   "execution_count": 19,
   "metadata": {},
   "outputs": [
    {
     "data": {
      "text/plain": [
       "(array([16., 20., 22., 21.,  0.,  0., 42., 46., 40., 51.]),\n",
       " array([-4.94710895, -3.95617141, -2.96523387, -1.97429632, -0.98335878,\n",
       "         0.00757876,  0.9985163 ,  1.98945385,  2.98039139,  3.97132893,\n",
       "         4.96226648]),\n",
       " <BarContainer object of 10 artists>)"
      ]
     },
     "execution_count": 19,
     "metadata": {},
     "output_type": "execute_result"
    },
    {
     "data": {
      "image/png": "[encoded data removed]",
      "text/plain": [
       "<Figure size 432x288 with 1 Axes>"
      ]
     },
     "metadata": {
      "needs_background": "light"
     },
     "output_type": "display_data"
    }
   ],
   "source": [
    "plt.hist([el[2]['weight'] for el in G.edges(data = True)])"
   ]
  },
  {
   "cell_type": "code",
   "execution_count": 29,
   "metadata": {},
   "outputs": [
    {
     "data": {
      "text/plain": [
       "93"
      ]
     },
     "execution_count": 29,
     "metadata": {},
     "output_type": "execute_result"
    }
   ],
   "source": [
    "data = []\n",
    "with open(input_file_taregts) as f:\n",
    "    reader = csv.reader(f, delimiter=\"\\t\")\n",
    "    for line in reader:\n",
    "        data+=[line[0].split(',')[0]]\n",
    "len(np.unique(np.rint(np.array(data,dtype = float))))"
   ]
  },
  {
   "cell_type": "code",
   "execution_count": 26,
   "metadata": {},
   "outputs": [
    {
     "data": {
      "text/plain": [
       "'data_sets/De-noised_100G_9T_300cPerT_4_DS1'"
      ]
     },
     "execution_count": 26,
     "metadata": {},
     "output_type": "execute_result"
    }
   ],
   "source": [
    "path = input_file_taregts.rsplit('/',1)[0]"
   ]
  },
  {
   "cell_type": "code",
   "execution_count": 10,
   "metadata": {},
   "outputs": [
    {
     "data": {
      "text/plain": [
       "(array([ 1.,  5., 14., 25., 30., 11., 11.,  2.,  0.,  1.]),\n",
       " array([0.90949607, 0.93237131, 0.95524656, 0.9781218 , 1.00099704,\n",
       "        1.02387228, 1.04674752, 1.06962276, 1.092498  , 1.11537324,\n",
       "        1.13824848]),\n",
       " <BarContainer object of 10 artists>)"
      ]
     },
     "execution_count": 10,
     "metadata": {},
     "output_type": "execute_result"
    },
    {
     "data": {
      "image/png": "[encoded data removed]",
      "text/plain": [
       "<Figure size 640x480 with 1 Axes>"
      ]
     },
     "metadata": {},
     "output_type": "display_data"
    }
   ],
   "source": [
    "\n",
    "plt.hist(np.mean(expr_clean,axis = 1)/adata.X.mean(axis = 0))"
   ]
  },
  {
   "cell_type": "code",
   "execution_count": 14,
   "metadata": {},
   "outputs": [
    {
     "data": {
      "text/plain": [
       "[(0.3156064916798721, 0.9947406),\n",
       " (0.49214309571146, 0.99849963),\n",
       " (0.08748938029063857, 0.9503876),\n",
       " (0.04368379922274945, 0.8585861),\n",
       " (0.11081009018629906, 0.9452028),\n",
       " (0.15191785415175563, 0.9629531),\n",
       " (0.27344743471381017, 0.98910713),\n",
       " (0.18172397101645077, 0.97118074),\n",
       " (0.11130394738538263, 0.96153694),\n",
       " (0.10247213442846259, 0.94029903),\n",
       " (0.09737170562363928, 0.9377603),\n",
       " (0.22534176449210597, 0.9868003),\n",
       " (0.25148696965742445, 0.9880806),\n",
       " (0.1980160362716098, 0.9800015),\n",
       " (0.49473218657594986, 0.99857444),\n",
       " (0.07985335253399883, 0.93263036),\n",
       " (0.30333070114965544, 0.99273777),\n",
       " (0.008408890272253222, 0.58632046),\n",
       " (0.19363777134069526, 0.9777209),\n",
       " (0.20307921770986037, 0.98538494),\n",
       " (0.22318694464034772, 0.9828382),\n",
       " (0.34105230053466007, 0.9959777),\n",
       " (0.10734539688878897, 0.9616289),\n",
       " (0.08311917570991689, 0.939947),\n",
       " (0.29593802138154435, 0.99213827),\n",
       " (0.10107489350971821, 0.9439931),\n",
       " (0.2541436235817759, 0.9876112),\n",
       " (0.0939553274158128, 0.9407713),\n",
       " (0.1601698042999422, 0.97338974),\n",
       " (0.25023840776095874, 0.9899259),\n",
       " (0.21790399527194304, 0.9847321),\n",
       " (0.09062706553176858, 0.9283721),\n",
       " (0.09284726246979214, 0.9446672),\n",
       " (0.16815662834964862, 0.97447145),\n",
       " (0.17009533351454276, 0.9760955),\n",
       " (0.17579280738613967, 0.96790636),\n",
       " (0.04623057854319246, 0.8894217),\n",
       " (0.08250771803047685, 0.93964005),\n",
       " (0.08005780684878161, 0.93120563),\n",
       " (0.3583920154615595, 0.9952961),\n",
       " (0.11995107615582878, 0.9575692),\n",
       " (0.13006199921060424, 0.96318156),\n",
       " (0.31102862569282774, 0.9939706),\n",
       " (0.26720470695470044, 0.98977995),\n",
       " (0.005982035946064723, 0.6026616),\n",
       " (0.11671830698014274, 0.96194947),\n",
       " (0.15238888004680784, 0.9710708),\n",
       " (0.7763734437042438, 0.9999129),\n",
       " (0.030201214533876364, 0.8214962),\n",
       " (0.17037192230267884, 0.9771563),\n",
       " (0.11691456999300476, 0.9506862),\n",
       " (0.17588438087558655, 0.97454834),\n",
       " (0.8525271386696136, 0.9999895),\n",
       " (0.666573668584522, 0.9997655),\n",
       " (0.8136881382663104, 0.9999754),\n",
       " (0.7110334797436882, 0.9998155),\n",
       " (0.010939721224631271, 0.5736915),\n",
       " (0.6922087031546444, 0.9790965),\n",
       " (0.09254482782097428, 0.90999514),\n",
       " (0.19336893912826258, 0.98074126),\n",
       " (0.7951887932114456, 0.9999561),\n",
       " (0.8296102240476534, 0.99998444),\n",
       " (0.013244838192804309, 0.578977),\n",
       " (0.8408999806826856, 0.99998486),\n",
       " (0.8418341497101921, 0.9999824),\n",
       " (0.2887040326498591, 0.990391),\n",
       " (0.5097740584201793, 0.9991278),\n",
       " (0.012915864979712421, 0.6250868),\n",
       " (0.9964479210323725, 0.99934137),\n",
       " (0.49118290388545727, 0.9974875),\n",
       " (0.7617787834135885, 0.99991965),\n",
       " (0.7435102732080241, 0.9999315),\n",
       " (0.5479167292925964, 0.9990432),\n",
       " (0.6430723654966453, 0.9997163),\n",
       " (0.025015137097812667, 0.72506213),\n",
       " (0.49129596178880597, 0.99806666),\n",
       " (0.12725434463828367, 0.91918427),\n",
       " (0.9342860761003556, 0.9999995),\n",
       " (0.30980269830370266, 0.9915523),\n",
       " (0.43572988917223077, 0.996605),\n",
       " (0.5586375631877454, 0.9993272),\n",
       " (0.12122134030086251, 0.99259925),\n",
       " (0.25206892011539805, 0.988046),\n",
       " (0.5645801079756159, 0.99897486),\n",
       " (0.0106099795111404, 0.67568886),\n",
       " (0.24009021413412512, 0.9825697),\n",
       " (0.7249737933340353, 0.9999013),\n",
       " (0.13064176460119414, 0.93298495),\n",
       " (0.7121230716285778, 0.9998998),\n",
       " (0.6153161047857951, 0.999148),\n",
       " (0.1794478221928143, 0.9602629),\n",
       " (0.45905866519004435, 0.99790996),\n",
       " (0.07256570996464484, 0.9305744),\n",
       " (0.008629219370275165, 0.5691467),\n",
       " (0.2136343045237763, 0.9680122),\n",
       " (0.1638941006029645, 0.9534598),\n",
       " (0.1037676277083408, 0.9321725),\n",
       " (0.26972443760341347, 0.9903356),\n",
       " (0.8488610332145965, 0.9999934),\n",
       " (0.3536695958665128, 0.99349505)]"
      ]
     },
     "execution_count": 14,
     "metadata": {},
     "output_type": "execute_result"
    }
   ],
   "source": [
    "list(zip(1-np.exp(-count_matrix.mean(axis = 1)),1-np.exp(-adata.X.mean(axis = 0))))"
   ]
  },
  {
   "cell_type": "code",
   "execution_count": null,
   "metadata": {},
   "outputs": [],
   "source": []
  }
 ],
 "metadata": {
  "kernelspec": {
   "display_name": "Python 3 (ipykernel)",
   "language": "python",
   "name": "python3"
  },
  "language_info": {
   "codemirror_mode": {
    "name": "ipython",
    "version": 3
   },
   "file_extension": ".py",
   "mimetype": "text/x-python",
   "name": "python",
   "nbconvert_exporter": "python",
   "pygments_lexer": "ipython3",
   "version": "3.9.13"
  }
 },
 "nbformat": 4,
 "nbformat_minor": 2
}
