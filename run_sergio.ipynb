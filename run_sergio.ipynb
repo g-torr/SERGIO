{
 "cells": [
  {
   "cell_type": "code",
   "execution_count": 1,
   "metadata": {},
   "outputs": [],
   "source": [
    "import numpy as np\n",
    "import pandas as pd\n",
    "from SERGIO.sergio import sergio"
   ]
  },
  {
   "cell_type": "markdown",
   "metadata": {},
   "source": [
    "# Simulate Clean Data _ Steady-State Simulation"
   ]
  },
  {
   "cell_type": "code",
   "execution_count": null,
   "metadata": {},
   "outputs": [
    {
     "name": "stdout",
     "output_type": "stream",
     "text": [
      "Start simulating new level\n",
      "There are 4 genes to simulate in this layer\n",
      "Done with current level\n",
      "Start simulating new level\n",
      "There are 6 genes to simulate in this layer\n",
      "Done with current level\n",
      "Start simulating new level\n",
      "There are 90 genes to simulate in this layer\n"
     ]
    }
   ],
   "source": [
    "sim = sergio(number_genes=100, number_bins = 9, number_sc = 300, noise_params = 1, decays=0.8, sampling_state=15, noise_type='dpd')\n",
    "input_file_taregts=  'data_sets/De-noised_100G_9T_300cPerT_4_DS1/Interaction_cID_4.txt'\n",
    "input_file_regs='data_sets/De-noised_100G_9T_300cPerT_4_DS1/Regs_cID_4.txt'\n",
    "sim.build_graph(input_file_taregts = input_file_taregts, input_file_regs= input_file_regs, shared_coop_state=2)\n",
    "sim.simulate()\n",
    "expr = sim.getExpressions()\n",
    "expr_clean = np.concatenate(expr, axis = 1)"
   ]
  },
  {
   "cell_type": "markdown",
   "metadata": {
    "collapsed": true
   },
   "source": [
    "# Add Technical Noise _ Steady-State Simulations"
   ]
  },
  {
   "cell_type": "code",
   "execution_count": null,
   "metadata": {},
   "outputs": [],
   "source": [
    "\"\"\"\n",
    "Add outlier genes\n",
    "\"\"\"\n",
    "expr_O = sim.outlier_effect(expr, outlier_prob = 0.01, mean = 0.8, scale = 1)\n",
    "\n",
    "\"\"\"\n",
    "Add Library Size Effect\n",
    "\"\"\"\n",
    "libFactor, expr_O_L = sim.lib_size_effect(expr_O, mean = 4.6, scale = 0.4)\n",
    "\n",
    "\"\"\"\n",
    "Add Dropouts\n",
    "\"\"\"\n",
    "binary_ind = sim.dropout_indicator(expr_O_L, shape = 6.5, percentile = 82)\n",
    "expr_O_L_D = np.multiply(binary_ind, expr_O_L)\n",
    "\n",
    "\"\"\"\n",
    "Convert to UMI count\n",
    "\"\"\"\n",
    "count_matrix = sim.convert_to_UMIcounts(expr_O_L_D)\n",
    "\n",
    "\"\"\"\n",
    "Make a 2d gene expression matrix\n",
    "\"\"\"\n",
    "count_matrix = np.concatenate(count_matrix, axis = 1)"
   ]
  },
  {
   "cell_type": "markdown",
   "metadata": {},
   "source": [
    "# Simulate Clean Data _ differentiation Simulation"
   ]
  },
  {
   "cell_type": "code",
   "execution_count": null,
   "metadata": {
    "collapsed": true
   },
   "outputs": [],
   "source": [
    "df = pd.read_csv('data_sets/De-noised_100G_6T_300cPerT_dynamics_7_DS6/bMat_cID7.tab', sep='\\t', header=None, index_col=None)\n",
    "bMat = df.values\n",
    "\n",
    "sim = sergio(number_genes=100, number_bins = 6, number_sc = 300, noise_params = 0.2, decays=0.8, sampling_state = 1, noise_params_splice = 0.07, noise_type='dpd', dynamics=True, bifurcation_matrix= bMat)\n",
    "sim.build_graph(input_file_taregts ='data_sets/De-noised_100G_6T_300cPerT_dynamics_7_DS6/Interaction_cID_7.txt', input_file_regs='data_sets/De-noised_100G_6T_300cPerT_dynamics_7_DS6/Regs_cID_7.txt', shared_coop_state=2)\n",
    "sim.simulate_dynamics()\n",
    "exprU, exprS = sim.getExpressions_dynamics()\n",
    "exprU_clean = np.concatenate(exprU, axis = 1)\n",
    "exprS_clean = np.concatenate(exprS, axis = 1)"
   ]
  },
  {
   "cell_type": "markdown",
   "metadata": {},
   "source": [
    "# Add Technical Noise _ differentiation Simulations"
   ]
  },
  {
   "cell_type": "code",
   "execution_count": null,
   "metadata": {
    "collapsed": true
   },
   "outputs": [],
   "source": [
    "\"\"\"\n",
    "Add outlier genes\n",
    "\"\"\"\n",
    "exprU_O, exprS_O = sim.outlier_effect_dynamics(exprU, exprS, outlier_prob = 0.01, mean = 0.8, scale = 1)\n",
    "\n",
    "\"\"\"\n",
    "Add Library Size Effect\n",
    "\"\"\"\n",
    "libFactor, exprU_O_L, exprS_O_L = sim.lib_size_effect_dynamics(exprU_O, exprS_O, mean = 4.6, scale = 0.4)\n",
    "\n",
    "\"\"\"\n",
    "Add Dropouts\n",
    "\"\"\"\n",
    "binary_indU, binary_indS = sim.dropout_indicator_dynamics(exprU_O_L, exprS_O_L, shape = 6.5, percentile = 82)\n",
    "exprU_O_L_D = np.multiply(binary_indU, exprU_O_L)\n",
    "exprS_O_L_D = np.multiply(binary_indS, exprS_O_L)\n",
    "\n",
    "\"\"\"\n",
    "Convert to UMI count\n",
    "\"\"\"\n",
    "count_matrix_U, count_matrix_S = sim.convert_to_UMIcounts_dynamics(exprU_O_L_D, exprS_O_L_D)\n",
    "\n",
    "\"\"\"\n",
    "Make 2d spliced and unspliced expression matrices\n",
    "\"\"\"\n",
    "count_matrix_U = np.concatenate(count_matrix_U, axis = 1)\n",
    "count_matrix_S = np.concatenate(count_matrix_S, axis = 1)"
   ]
  },
  {
   "cell_type": "markdown",
   "metadata": {},
   "source": [
    "### Create a network from here"
   ]
  },
  {
   "cell_type": "code",
   "execution_count": null,
   "metadata": {},
   "outputs": [],
   "source": [
    "import scanpy as sc\n",
    "import pandas as pd\n",
    "import csv\n",
    "import networkx as nx\n",
    "from SERGIO.utils import convert_interaction_net_to_networkx"
   ]
  },
  {
   "cell_type": "code",
   "execution_count": 107,
   "metadata": {},
   "outputs": [
    {
     "name": "stderr",
     "output_type": "stream",
     "text": [
      "<ipython-input-107-6d5f640c3f17>:1: FutureWarning: X.dtype being converted to np.float32 from float64. In the next version of anndata (0.9) conversion will not be automatic. Pass dtype explicitly to avoid this warning. Pass `AnnData(X, dtype=X.dtype, ...)` to get the future behavour.\n",
      "  adata = sc.AnnData(expr_clean.T)\n"
     ]
    },
    {
     "data": {
      "text/plain": [
       "AnnData object with n_obs × n_vars = 2700 × 100"
      ]
     },
     "execution_count": 107,
     "metadata": {},
     "output_type": "execute_result"
    }
   ],
   "source": [
    "\n",
    "adata = sc.AnnData(expr_clean.T)\n",
    "adata"
   ]
  },
  {
   "cell_type": "code",
   "execution_count": 109,
   "metadata": {},
   "outputs": [
    {
     "ename": "NameError",
     "evalue": "name 'np' is not defined",
     "output_type": "error",
     "traceback": [
      "\u001b[0;31m---------------------------------------------------------------------------\u001b[0m",
      "\u001b[0;31mNameError\u001b[0m                                 Traceback (most recent call last)",
      "\u001b[0;32m<ipython-input-109-a41ef5a6354a>\u001b[0m in \u001b[0;36m<module>\u001b[0;34m\u001b[0m\n\u001b[0;32m----> 1\u001b[0;31m \u001b[0mG\u001b[0m \u001b[0;34m=\u001b[0m \u001b[0mconvert_interaction_net_to_networkx\u001b[0m\u001b[0;34m(\u001b[0m\u001b[0minput_file_taregts\u001b[0m\u001b[0;34m)\u001b[0m\u001b[0;34m\u001b[0m\u001b[0;34m\u001b[0m\u001b[0m\n\u001b[0m",
      "\u001b[0;32m~/Downloads/SERGIO/SERGIO/utils.py\u001b[0m in \u001b[0;36mconvert_interaction_net_to_networkx\u001b[0;34m(input_file_taregts)\u001b[0m\n\u001b[1;32m     18\u001b[0m             \u001b[0;32melse\u001b[0m\u001b[0;34m:\u001b[0m\u001b[0;34m\u001b[0m\u001b[0;34m\u001b[0m\u001b[0m\n\u001b[1;32m     19\u001b[0m                 \u001b[0;32mraise\u001b[0m \u001b[0mValueError\u001b[0m\u001b[0;34m(\u001b[0m\u001b[0;34m'1st and 2nd column of '\u001b[0m\u001b[0;34m+\u001b[0m\u001b[0minput_file_taregts\u001b[0m\u001b[0;34m+\u001b[0m\u001b[0;34m\" should be integers, but they aren't\"\u001b[0m\u001b[0;34m)\u001b[0m\u001b[0;34m\u001b[0m\u001b[0;34m\u001b[0m\u001b[0m\n\u001b[0;32m---> 20\u001b[0;31m             \u001b[0mneighbours\u001b[0m  \u001b[0;34m=\u001b[0m \u001b[0mnp\u001b[0m\u001b[0;34m.\u001b[0m\u001b[0mrint\u001b[0m\u001b[0;34m(\u001b[0m\u001b[0mnp\u001b[0m\u001b[0;34m.\u001b[0m\u001b[0marray\u001b[0m\u001b[0;34m(\u001b[0m\u001b[0munformatted\u001b[0m\u001b[0;34m[\u001b[0m\u001b[0;36m2\u001b[0m\u001b[0;34m:\u001b[0m\u001b[0;36m2\u001b[0m\u001b[0;34m+\u001b[0m\u001b[0min_degree\u001b[0m\u001b[0;34m]\u001b[0m\u001b[0;34m,\u001b[0m\u001b[0mdtype\u001b[0m\u001b[0;34m=\u001b[0m\u001b[0mfloat\u001b[0m\u001b[0;34m)\u001b[0m\u001b[0;34m)\u001b[0m\u001b[0;34m.\u001b[0m\u001b[0mastype\u001b[0m\u001b[0;34m(\u001b[0m\u001b[0mint\u001b[0m\u001b[0;34m)\u001b[0m\u001b[0;34m\u001b[0m\u001b[0;34m\u001b[0m\u001b[0m\n\u001b[0m\u001b[1;32m     21\u001b[0m             \u001b[0minteraction\u001b[0m \u001b[0;34m=\u001b[0m \u001b[0mnp\u001b[0m\u001b[0;34m.\u001b[0m\u001b[0marray\u001b[0m\u001b[0;34m(\u001b[0m\u001b[0munformatted\u001b[0m\u001b[0;34m[\u001b[0m\u001b[0;36m2\u001b[0m\u001b[0;34m+\u001b[0m\u001b[0min_degree\u001b[0m\u001b[0;34m:\u001b[0m\u001b[0;36m2\u001b[0m\u001b[0;34m+\u001b[0m\u001b[0;36m2\u001b[0m\u001b[0;34m*\u001b[0m\u001b[0min_degree\u001b[0m\u001b[0;34m]\u001b[0m\u001b[0;34m,\u001b[0m\u001b[0mdtype\u001b[0m \u001b[0;34m=\u001b[0m \u001b[0mfloat\u001b[0m\u001b[0;34m)\u001b[0m\u001b[0;34m\u001b[0m\u001b[0;34m\u001b[0m\u001b[0m\n\u001b[1;32m     22\u001b[0m             \u001b[0mG\u001b[0m\u001b[0;34m.\u001b[0m\u001b[0madd_weighted_edges_from\u001b[0m\u001b[0;34m(\u001b[0m\u001b[0mlist\u001b[0m\u001b[0;34m(\u001b[0m\u001b[0mzip\u001b[0m\u001b[0;34m(\u001b[0m\u001b[0mneighbours\u001b[0m\u001b[0;34m,\u001b[0m\u001b[0;34m[\u001b[0m\u001b[0mi\u001b[0m\u001b[0;34m]\u001b[0m\u001b[0;34m*\u001b[0m\u001b[0min_degree\u001b[0m\u001b[0;34m,\u001b[0m\u001b[0minteraction\u001b[0m\u001b[0;34m)\u001b[0m\u001b[0;34m)\u001b[0m\u001b[0;34m)\u001b[0m\u001b[0;31m#neighbours are the genes pointing to i\u001b[0m\u001b[0;34m\u001b[0m\u001b[0;34m\u001b[0m\u001b[0m\n",
      "\u001b[0;31mNameError\u001b[0m: name 'np' is not defined"
     ]
    }
   ],
   "source": [
    "\n",
    "G = convert_interaction_net_to_networkx(input_file_taregts)"
   ]
  },
  {
   "cell_type": "code",
   "execution_count": 105,
   "metadata": {},
   "outputs": [
    {
     "data": {
      "text/plain": [
       "array([[12.460231  , 13.338497  ,  0.3373751 , ...,  7.00116   ,\n",
       "        18.650307  ,  6.639076  ],\n",
       "       [ 4.8804607 ,  3.7748215 ,  1.0696927 , ...,  5.180775  ,\n",
       "         8.515057  ,  5.4331756 ],\n",
       "       [ 8.568037  , 12.35842   ,  3.8735723 , ...,  4.542981  ,\n",
       "         9.333601  ,  7.4984584 ],\n",
       "       ...,\n",
       "       [ 3.7847576 , 10.021104  ,  0.28865016, ...,  4.229526  ,\n",
       "         8.635693  ,  0.5633098 ],\n",
       "       [ 4.6068873 ,  5.993948  ,  1.4192683 , ...,  5.8673964 ,\n",
       "        14.021153  ,  4.031814  ],\n",
       "       [ 5.6650996 ,  3.6499734 ,  3.9508939 , ...,  4.011389  ,\n",
       "         7.4217916 ,  5.4101853 ]], dtype=float32)"
      ]
     },
     "execution_count": 105,
     "metadata": {},
     "output_type": "execute_result"
    }
   ],
   "source": [
    "adata.X[]"
   ]
  },
  {
   "cell_type": "code",
   "execution_count": 88,
   "metadata": {},
   "outputs": [
    {
     "data": {
      "text/plain": [
       "array([ 0.,  1.,  2.,  3.,  4.,  5.,  6.,  7.,  8.,  9., 10., 11., 12.,\n",
       "       13., 14., 15., 16., 18., 19., 20., 21., 22., 23., 24., 25., 26.,\n",
       "       27., 28., 29., 30., 31., 32., 33., 34., 35., 36., 37., 38., 39.,\n",
       "       40., 41., 42., 43., 45., 46., 47., 48., 49., 50., 51., 52., 53.,\n",
       "       54., 55., 57., 58., 59., 60., 61., 63., 64., 65., 66., 68., 69.,\n",
       "       70., 71., 72., 73., 74., 75., 76., 77., 78., 79., 80., 81., 82.,\n",
       "       83., 85., 86., 87., 88., 89., 90., 91., 92., 94., 95., 96., 97.,\n",
       "       98., 99.])"
      ]
     },
     "execution_count": 88,
     "metadata": {},
     "output_type": "execute_result"
    }
   ],
   "source": [
    "data = []\n",
    "with open(input_file_taregts) as f:\n",
    "    reader = csv.reader(f, delimiter=\"\\t\")\n",
    "    for line in reader:\n",
    "        data+=[line[0].split(',')[0]]\n",
    "np.unique(np.rint(np.array(data,dtype = float)))"
   ]
  },
  {
   "cell_type": "code",
   "execution_count": 69,
   "metadata": {},
   "outputs": [],
   "source": []
  },
  {
   "cell_type": "code",
   "execution_count": null,
   "metadata": {},
   "outputs": [],
   "source": []
  }
 ],
 "metadata": {
  "kernelspec": {
   "display_name": "Python 3",
   "language": "python",
   "name": "python3"
  },
  "language_info": {
   "codemirror_mode": {
    "name": "ipython",
    "version": 3
   },
   "file_extension": ".py",
   "mimetype": "text/x-python",
   "name": "python",
   "nbconvert_exporter": "python",
   "pygments_lexer": "ipython3",
   "version": "3.8.8"
  }
 },
 "nbformat": 4,
 "nbformat_minor": 2
}
